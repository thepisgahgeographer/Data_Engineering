{
 "cells": [
  {
   "cell_type": "code",
   "execution_count": 2,
   "id": "84a3c101",
   "metadata": {},
   "outputs": [
    {
     "data": {
      "text/plain": [
       "2"
      ]
     },
     "execution_count": 2,
     "metadata": {},
     "output_type": "execute_result"
    }
   ],
   "source": [
    " 5 % 3\n"
   ]
  },
  {
   "cell_type": "code",
   "execution_count": 3,
   "id": "4fc35cbb",
   "metadata": {},
   "outputs": [
    {
     "name": "stdout",
     "output_type": "stream",
     "text": [
      "\n",
      "Note: you may need to restart the kernel to use updated packages.\n"
     ]
    },
    {
     "name": "stderr",
     "output_type": "stream",
     "text": [
      "usage: conda-script.py [-h] [-V] command ...\n",
      "conda-script.py: error: unrecognized arguments: -U\n"
     ]
    }
   ],
   "source": [
    "conda install -U prefect"
   ]
  },
  {
   "cell_type": "code",
   "execution_count": null,
   "id": "05196e3a",
   "metadata": {},
   "outputs": [],
   "source": [
    "!pip install -U prefect\n"
   ]
  },
  {
   "cell_type": "code",
   "execution_count": 2,
   "id": "09333014",
   "metadata": {},
   "outputs": [
    {
     "name": "stdout",
     "output_type": "stream",
     "text": [
      "Version:              3.4.17\n",
      "API version:          0.8.4\n",
      "Python version:       3.13.5\n",
      "Git commit:           7804f5f7\n",
      "Built:                Fri, Sep 05, 2025 07:11 PM\n",
      "OS/Arch:              win32/AMD64\n",
      "Profile:              ephemeral\n",
      "Server type:          ephemeral\n",
      "Pydantic version:     2.11.7\n",
      "Server:\n",
      "  Database:           sqlite\n",
      "  SQLite version:     3.50.2\n"
     ]
    }
   ],
   "source": [
    "!prefect version\n"
   ]
  },
  {
   "cell_type": "code",
   "execution_count": 4,
   "id": "fa99e05d",
   "metadata": {},
   "outputs": [
    {
     "ename": "SyntaxError",
     "evalue": "invalid decimal literal (1498342132.py, line 2)",
     "output_type": "error",
     "traceback": [
      "  \u001b[36mCell\u001b[39m\u001b[36m \u001b[39m\u001b[32mIn[4]\u001b[39m\u001b[32m, line 2\u001b[39m\n\u001b[31m    \u001b[39m\u001b[31mpython 01_getting_started.py\u001b[39m\n             ^\n\u001b[31mSyntaxError\u001b[39m\u001b[31m:\u001b[39m invalid decimal literal\n"
     ]
    }
   ],
   "source": [
    "!git clone https://github.com/PrefectHQ/quickstart && cd quickstart\n",
    "python 01_getting_started.py"
   ]
  },
  {
   "cell_type": "code",
   "execution_count": null,
   "id": "601d091f",
   "metadata": {},
   "outputs": [],
   "source": []
  }
 ],
 "metadata": {
  "kernelspec": {
   "display_name": "AIFramework",
   "language": "python",
   "name": "python3"
  },
  "language_info": {
   "codemirror_mode": {
    "name": "ipython",
    "version": 3
   },
   "file_extension": ".py",
   "mimetype": "text/x-python",
   "name": "python",
   "nbconvert_exporter": "python",
   "pygments_lexer": "ipython3",
   "version": "3.13.5"
  }
 },
 "nbformat": 4,
 "nbformat_minor": 5
}
